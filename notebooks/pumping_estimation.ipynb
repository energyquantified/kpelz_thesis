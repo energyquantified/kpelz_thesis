{
 "cells": [
  {
   "cell_type": "markdown",
   "metadata": {},
   "source": [
    "# Estimate the Pumping of a Pumped Hydro Energy Storage\n",
    "\n",
    "This notebook estimates the pumping of a pumped hydro energy storage (PHES) using time series of production data. This data is provided by Energy Quantified and fetched via their Python client.\n",
    "\n",
    "Many PHES plants are missing pumping data and only provide data on production. The aim is to estimate the pumping from the production and other external time series. Two plants in Europe have been identified with good quality in their data to analyze the results. These are the Kruonis plant in Lithuania and the Čierny Váh plant in Slovakia.\n",
    "\n",
    "| Plant | LT Kruonius | SK Čierny Váh |\n",
    "|---|---|---|\n",
    "| Max. Capacity | 900 MW | 735.16 MW |\n",
    "| Efficiency | 74 % | 73 % |\n",
    "| Max. Storage | 10,800 MWh | 4,000 MWh | "
   ]
  },
  {
   "cell_type": "code",
   "execution_count": 1,
   "metadata": {},
   "outputs": [],
   "source": [
    "from datetime import date\n",
    "from matplotlib import pyplot as plt\n",
    "import numpy as np\n",
    "import pandas as pd\n",
    "import seaborn as sns\n",
    "from sklearn.linear_model import LinearRegression\n",
    "\n",
    "from energyquantified import EnergyQuantified \n",
    "from energyquantified.time import CET\n",
    "\n",
    "# set print options to print all rows\n",
    "pd.set_option('display.max_rows', None)\n",
    "# set sns figure size\n",
    "sns.set_theme(rc={'figure.figsize':(15, 7)})"
   ]
  },
  {
   "cell_type": "code",
   "execution_count": null,
   "metadata": {},
   "outputs": [],
   "source": [
    "# setup EQ's Python client\n",
    "eq = EnergyQuantified(api_key_file=\"../eq_api_key.txt\")\n",
    "eq.is_api_key_valid()"
   ]
  },
  {
   "cell_type": "markdown",
   "metadata": {},
   "source": [
    "This notebook uses the LT Kruonis plant but it can be easily switched to SK Čierny Váh by commenting and uncommenting the following lines."
   ]
  },
  {
   "cell_type": "code",
   "execution_count": null,
   "metadata": {},
   "outputs": [],
   "source": [
    "area = \"LT\"\n",
    "plant_name = \"LT @Kruonis\"\n",
    "plant_efficiency = 0.74\n",
    "max_storage = 10_800\n",
    "max_capacity = 900\n",
    "capacity_steps = [-225, -450, -675, -900]\n",
    "spot_price_curve = \"LT Price Spot EUR/MWh NordPool H Actual\"\n",
    "begin_date = date(2021, 4, 12) # first date with residual productin data\n",
    "end_date = date(2024, 7, 1)\n",
    "\n",
    "# area = \"SK\"\n",
    "# plant_name = \"SK @Cierny-Vah\"\n",
    "# plant_efficiency = 0.73\n",
    "# max_storage = 4_000\n",
    "# max_capacity = 400\n",
    "# capacity_steps = [-100, -200, -300, -400, -500, -600]\n",
    "# spot_price_curve = \"SK Price Spot EUR/MWh OKTE H Actual\"\n",
    "# begin_date = date(2018, 11, 1) # first date with residual productin data\n",
    "# end_date = date(2024, 7, 1)"
   ]
  },
  {
   "cell_type": "markdown",
   "metadata": {},
   "source": [
    "## Load Data"
   ]
  },
  {
   "cell_type": "code",
   "execution_count": null,
   "metadata": {},
   "outputs": [],
   "source": [
    "plant_ts = eq.timeseries.load(f\"{plant_name} Hydro Pumped-storage Production MWh/h H Actual\", begin=begin_date, end=end_date)\n",
    "spot_price_ts = eq.timeseries.load(spot_price_curve, begin=begin_date, end=end_date)\n",
    "resid_load_ts = eq.timeseries.load(f\"{area} Residual Load MWh/h H Actual\", begin=begin_date, end=end_date)\n",
    "resid_prod_ts = eq.timeseries.load(f\"{area} Residual Production Day-Ahead MWh/h H Synthetic\", begin=begin_date, end=end_date)\n",
    "\n",
    "# create data frame\n",
    "df = plant_ts.to_df(name=\"Net Production\", single_level_header=True).fillna(0)\n",
    "df[\"Production\"] = df[\"Net Production\"].clip(lower=0)\n",
    "df[\"Pumping\"] = df[\"Net Production\"].clip(upper=0)\n",
    "\n",
    "df[\"Spot Price\"] = spot_price_ts.to_df(name=\"spot_price\", single_level_header=True)[\"spot_price\"]\n",
    "df[\"Residual Load\"] = resid_load_ts.to_df(name=\"resid_load\", single_level_header=True)[\"resid_load\"]\n",
    "df[\"Residual Production\"] = resid_prod_ts.to_df(name=\"resid_prod\", single_level_header=True)[\"resid_prod\"]\n",
    "\n",
    "df['Residual Production'] = df['Residual Production'].interpolate(method='linear')\n",
    "\n",
    "df.info()"
   ]
  },
  {
   "cell_type": "code",
   "execution_count": null,
   "metadata": {},
   "outputs": [],
   "source": [
    "df.describe()"
   ]
  },
  {
   "cell_type": "markdown",
   "metadata": {},
   "source": [
    "# Analyse Data"
   ]
  },
  {
   "cell_type": "markdown",
   "metadata": {},
   "source": [
    "## Time"
   ]
  },
  {
   "cell_type": "code",
   "execution_count": null,
   "metadata": {},
   "outputs": [],
   "source": [
    "# extract time features\n",
    "df[\"hour\"] = df.index.hour\n",
    "df[\"weekday\"] = df.index.weekday\n",
    "df[\"month\"] = df.index.month\n",
    "df[\"year\"] = df.index.year"
   ]
  },
  {
   "cell_type": "code",
   "execution_count": null,
   "metadata": {},
   "outputs": [],
   "source": [
    "time_features = [\"hour\", \"weekday\", \"month\", \"year\"]\n",
    "production_features = [\"Net Production\", \"Production\", \"Pumping\"]\n",
    "corr_matrix = df.corr()\n",
    "corr_subset = corr_matrix.loc[time_features, production_features]\n",
    "corr_subset"
   ]
  },
  {
   "cell_type": "code",
   "execution_count": null,
   "metadata": {},
   "outputs": [],
   "source": [
    "sns.heatmap(corr_subset, annot=True, vmin=-1, vmax=1, cmap=\"coolwarm\", fmt=\".2f\")\n",
    "plt.title(\"Correlation matrix between time features and production features\")\n",
    "plt.ylabel(\"Time features\")\n",
    "plt.xlabel(\"Production features\")\n",
    "plt.show()"
   ]
  },
  {
   "cell_type": "code",
   "execution_count": null,
   "metadata": {},
   "outputs": [],
   "source": [
    "plt.figure(figsize=(15, 3))\n",
    "sns.histplot(df[[\"Pumping\", \"Production\"]].replace(0, np.nan), kde=True)\n",
    "# plt.title(f\"{plant_name} production and pumping distribution\")\n",
    "plt.xlabel(\"MWh/h\")\n",
    "plt.show()"
   ]
  },
  {
   "cell_type": "code",
   "execution_count": null,
   "metadata": {},
   "outputs": [],
   "source": [
    "prod_pump_df = df[\"Net Production\"].replace(0, np.nan).gt(0).replace({True: \"Production\", False: \"Pumping\"})\n",
    "plt.figure(figsize=(15, 5))\n",
    "sns.boxenplot(\n",
    "    data=df,\n",
    "    y=\"Net Production\",\n",
    "    x=\"hour\",\n",
    "    showfliers=False,\n",
    "    hue=prod_pump_df\n",
    ")\n",
    "# plt.title(f\"{plant_name} Production and Pumping by Hour\")\n",
    "plt.ylabel(\"MWh/h\")\n",
    "plt.xlabel(\"Hour of Day\")\n",
    "# plt.legend(title=\"Production / Pumping\")\n",
    "plt.show()"
   ]
  },
  {
   "cell_type": "markdown",
   "metadata": {},
   "source": [
    "## Correlation"
   ]
  },
  {
   "cell_type": "code",
   "execution_count": null,
   "metadata": {},
   "outputs": [],
   "source": [
    "sns.histplot(\n",
    "    df[\"Spot Price\"],\n",
    "    log_scale=True\n",
    ")\n",
    "plt.title(f\"{area} spot price distribution\")\n",
    "plt.xlabel(\"€\")\n",
    "plt.show()"
   ]
  },
  {
   "cell_type": "code",
   "execution_count": null,
   "metadata": {},
   "outputs": [],
   "source": [
    "sns.histplot(df[[\"Residual Production\", \"Residual Load\"]])\n",
    "plt.title(f\"{area} Residual Load and Production distribution\")\n",
    "plt.xlabel(\"MWh/h\")\n",
    "plt.show()"
   ]
  },
  {
   "cell_type": "code",
   "execution_count": null,
   "metadata": {},
   "outputs": [],
   "source": [
    "df.corr()"
   ]
  },
  {
   "cell_type": "code",
   "execution_count": null,
   "metadata": {},
   "outputs": [],
   "source": [
    "# set sns figure size\n",
    "sns.set_theme(rc={'figure.figsize':(6, 4)})\n",
    "\n",
    "sns.heatmap(\n",
    "    df[[\"Spot Price\" ,\"Residual Load\" ,\"Residual Production\" ,\"Net Production\" ,\"Production\" ,\"Pumping\"]]\n",
    "        .corr()\n",
    "        .loc[[\"Net Production\", \"Production\", \"Pumping\"], [\"Spot Price\", \"Residual Load\", \"Residual Production\"]],\n",
    "    vmin=-1,\n",
    "    vmax=1,\n",
    "    annot=True,\n",
    "    cmap='coolwarm',\n",
    "    fmt=\".2f\",\n",
    "    # set font size\n",
    "    annot_kws={\"size\": 18}\n",
    ")\n",
    "# plt.title(f\"Correlation matrix between {area} and {plant_name} production features\")\n",
    "# plt.ylabel(f\"PHS plant\")\n",
    "# plt.xlabel(f\"Area\")\n",
    "\n",
    "plt.show()"
   ]
  },
  {
   "cell_type": "code",
   "execution_count": null,
   "metadata": {},
   "outputs": [],
   "source": [
    "sns.scatterplot(\n",
    "    df,\n",
    "    x=\"Residual Production\",\n",
    "    y=\"Net Production\",\n",
    "    hue=\"Spot Price\",\n",
    "    hue_norm=(0, 500),\n",
    ")\n",
    "plt.ylabel(\"Net Production [MWh/h]\")\n",
    "plt.xlabel(\"Residual Production [MWh/h]\")\n",
    "plt.show()"
   ]
  },
  {
   "cell_type": "code",
   "execution_count": null,
   "metadata": {},
   "outputs": [],
   "source": [
    "sns.regplot(\n",
    "    df,\n",
    "    x=\"Residual Production\",\n",
    "    y=\"Net Production\",\n",
    "    # hue=\"Spot Price\",\n",
    "    # hue_norm=(0, 500),\n",
    "    line_kws={'color': 'orange'}\n",
    ")\n",
    "plt.ylabel(\"Net Production [MWh/h]\")\n",
    "plt.xlabel(\"Residual Production [MWh/h]\")\n",
    "plt.show()"
   ]
  },
  {
   "cell_type": "code",
   "execution_count": null,
   "metadata": {},
   "outputs": [],
   "source": [
    "g = sns.JointGrid(\n",
    "    df.resample(\"6h\").mean(),\n",
    "    x=\"Residual Production\",\n",
    "    y=\"Net Production\",\n",
    "    # hue=\"Spot Price\",\n",
    "    # hue_norm=(0, 500),\n",
    "    # kind=\"reg\",\n",
    ")\n",
    "g.plot_joint(sns.regplot, line_kws={'color': 'orange'})\n",
    "# g.plot_marginals(sns.boxenplot, showfliers=False)\n",
    "g.plot_marginals(sns.histplot, kde=True)\n",
    "plt.ylabel(\"Net Production [MWh/h]\")\n",
    "plt.xlabel(\"Residual Production [MWh/h]\")\n",
    "plt.show()"
   ]
  },
  {
   "cell_type": "code",
   "execution_count": null,
   "metadata": {},
   "outputs": [],
   "source": [
    "# set sns figure size\n",
    "sns.set_theme(rc={'figure.figsize':(15, 7)})\n",
    "sns.lineplot(df[[\"Residual Production\", \"Net Production\"]].tail(14*24), dashes=False)"
   ]
  },
  {
   "cell_type": "markdown",
   "metadata": {},
   "source": [
    "# Linear Regression"
   ]
  },
  {
   "cell_type": "code",
   "execution_count": null,
   "metadata": {},
   "outputs": [],
   "source": [
    "def adjust_pumping_to_production(prod: pd.Series, pump: pd.Series, plant_efficiency: float, window_size: int) -> pd.Series:\n",
    "    # calculate sum of production and pumping over a period of window_size\n",
    "    pump_ms: pd.Series = pump.rolling(window_size).sum()\n",
    "    prod_ms: pd.Series = prod.rolling(window_size).sum()\n",
    "\n",
    "    # calculate factor to scale estimated pumping to fit amount of production\n",
    "    pump_scale_factor: float = prod_ms / (-plant_efficiency * pump_ms)\n",
    "    \n",
    "    return pump * pump_scale_factor\n",
    "\n",
    "def adjust_pumping_to_capacities(net_prod_est: pd.Series, capacity_steps: list[int]) -> pd.Series:\n",
    "    # Add 0 as the first step because its a valid capacity\n",
    "    capacity_steps.insert(0, 0)\n",
    "    # Round the estimated net production to the nearest capacity step\n",
    "    return net_prod_est.apply(lambda x: x if pd.isna(x) or x >= 0 else min(capacity_steps, key=lambda y: abs(y - x)))\n",
    "\n",
    "def combine_estimated_adjusted(net_prod_est: pd.Series, net_prod_adj: pd.Series) -> pd.Series:\n",
    "    return (net_prod_est + net_prod_adj) / 2.0\n",
    "\n",
    "def estimate_pumping(net_prod: pd.Series, resid_prod: pd.Series, resid_load: pd.Series, spot_price: pd.Series, window_size_ma: int, window_size_ms: int, plant_efficiency: float) -> tuple[pd.Series, pd.Series, pd.Series, pd.Series, list[float], float]:\n",
    "    # build data frame\n",
    "    df_cp = pd.DataFrame({\n",
    "        'Net Production': net_prod.fillna(0),\n",
    "        'Net Production MA': net_prod.rolling(window_size_ma).mean(),\n",
    "        'Net Production Std': net_prod.rolling(window_size_ma).std(),\n",
    "        'Production': net_prod.clip(lower=0),\n",
    "        'Production MA': net_prod.clip(lower=0).rolling(window_size_ma).mean(),\n",
    "        'Production Std': net_prod.clip(lower=0).rolling(window_size_ma).std(),\n",
    "        'Pumping': net_prod.clip(upper=0),\n",
    "        'Pumping MA': net_prod.clip(upper=0).rolling(window_size_ma).mean(),\n",
    "        'Pumping Std': net_prod.clip(upper=0).rolling(window_size_ma).std(),\n",
    "        'Residual Production': resid_prod,\n",
    "        'Residual Production MA': resid_prod.rolling(window_size_ma).mean(),\n",
    "        'Residual Production Std': resid_prod.rolling(window_size_ma).std(),\n",
    "        'Residual Load': resid_load,\n",
    "        'Residual Load MA': resid_load.rolling(window_size_ma).mean(),\n",
    "        'Residual Load Std': resid_load.rolling(window_size_ma).std(),\n",
    "        'Spot Price': spot_price,\n",
    "        'Spot Price MA': spot_price.rolling(window_size_ma).mean(),\n",
    "        'Spot Price Std': spot_price.rolling(window_size_ma).std(),\n",
    "        })\n",
    "\n",
    "    # Normalize the input features    \n",
    "    df_cp['Net Production Normalized'] = ((df_cp['Net Production'] - df_cp['Net Production MA']) / df_cp['Net Production Std']).fillna(0)\n",
    "    df_cp['Residual Production Normalized'] = ((df_cp['Residual Production'] - df_cp['Residual Production MA']) / df_cp['Residual Production Std']).fillna(0)\n",
    "    df_cp['Residual Load Normalized'] = ((df_cp['Residual Load'] - df_cp['Residual Load MA']) / df_cp['Residual Load Std']).fillna(0)\n",
    "    df_cp['Spot Price Normalized'] = ((df_cp['Spot Price'] - df_cp['Spot Price MA']) / df_cp['Spot Price Std']).fillna(0)\n",
    "\n",
    "    # Define the input features (X) and the target variable (y)\n",
    "    X: pd.DataFrame = df_cp[['Residual Production Normalized', 'Residual Load Normalized', 'Spot Price Normalized']].iloc[window_size_ma:]\n",
    "    y: pd.Series = df_cp['Net Production Normalized'].iloc[window_size_ma:]\n",
    "\n",
    "    # Train the Linear Regression model\n",
    "    model: LinearRegression = LinearRegression().fit(X, y)\n",
    "\n",
    "    # Predict the output for all time points\n",
    "    net_prod_est_zero_arr: np.ndarray = model.predict(X)\n",
    "    net_prod_est_zero: pd.Series = pd.Series(net_prod_est_zero_arr, index=y.index)\n",
    "    \n",
    "    # STAGE 1 Estimation: Linear Regression With Adjustment of Production-Pumping-Baalance\n",
    "    net_prod_est_one: pd.Series = df_cp['Production'] + adjust_pumping_to_production(df_cp['Production'], net_prod_est_zero.clip(upper=0), plant_efficiency, window_size_ms)\n",
    "\n",
    "    # STAGE 2 Estimation: Capacity Steps\n",
    "    net_prod_est_two: pd.Series = adjust_pumping_to_capacities(net_prod_est_one, capacity_steps)\n",
    "\n",
    "    # STAGE 3 Estimation: Combine Estimated and Adjusted\n",
    "    net_prod_est_three: pd.Series = combine_estimated_adjusted(net_prod_est_one, net_prod_est_two)\n",
    "\n",
    "    # STAGE 4 Estimation: Readjustment of Production-Pumping-Balance\n",
    "    net_prod_est_four: pd.Series = df_cp['Production'] + adjust_pumping_to_production(df_cp['Production'], net_prod_est_three.clip(upper=0), plant_efficiency, window_size_ms)\n",
    "\n",
    "    return (net_prod_est_one, net_prod_est_two, net_prod_est_three, net_prod_est_four, model.coef_, model.intercept_)"
   ]
  },
  {
   "cell_type": "code",
   "execution_count": null,
   "metadata": {},
   "outputs": [],
   "source": [
    "def calculate_stats(net_prod: pd.Series, net_prod_est: pd.Series) -> tuple[float, float, float, float, float, float, float, float, float]:\n",
    "    mae = (net_prod - net_prod_est).abs().mean()\n",
    "    mse = ((net_prod - net_prod_est) ** 2).mean()\n",
    "    mape = (net_prod - net_prod_est).abs().sum() / net_prod.abs().sum()\n",
    "    rmse = np.sqrt(((net_prod - net_prod_est) ** 2).mean())\n",
    "    cum_sum = (net_prod - net_prod_est).sum()\n",
    "    median = (net_prod - net_prod_est).abs().median()\n",
    "    std = (net_prod - net_prod_est).std()\n",
    "    skew = (net_prod - net_prod_est).skew()\n",
    "    kurt = (net_prod - net_prod_est).kurt()\n",
    "\n",
    "    return (mae, mse, mape, rmse, cum_sum, median, std, skew, kurt)"
   ]
  },
  {
   "cell_type": "code",
   "execution_count": null,
   "metadata": {},
   "outputs": [],
   "source": [
    "steps = [1, 2, 3, 5, 7, 10, 14, 30, 60, 90, 180, 270, 360]\n",
    "results = []\n",
    "for window_size_ma in steps:\n",
    "    for window_size_ms in steps:\n",
    "# for window_size in range(1, 365):\n",
    "#     for window_size_ms in range(1, 365):\n",
    "        print(f\"Window Size MA: {window_size_ma}\\t\\tWindow Size MS: {window_size_ms} \")\n",
    "        net_prod_est_one, net_prod_est_two, net_prod_est_three, net_prod_est_four, coefficients, intercept = estimate_pumping(df['Net Production'], df['Residual Production'], df['Residual Load'], df['Spot Price'], window_size_ma=window_size_ma * 24, window_size_ms=window_size_ms * 24, plant_efficiency=plant_efficiency)\n",
    "        stats_est = calculate_stats(df['Net Production'], net_prod_est_four)\n",
    "        results.append((window_size_ma, window_size_ms, window_size_ms, coefficients, intercept, *stats_est, net_prod_est_four))\n",
    "print(f\"Found {len(results)} results\")"
   ]
  },
  {
   "cell_type": "code",
   "execution_count": null,
   "metadata": {},
   "outputs": [],
   "source": [
    "def print_top_ten(results, sort_idx: int):\n",
    "    results.sort(key=lambda x: x[sort_idx])\n",
    "    # print top ten results\n",
    "    for idx, result in enumerate(results):\n",
    "        print(f\"{idx + 1}: Window Size MA: {result[0]}\\tWindow Size MS: {result[1]}\\tWindow Size MS 2: {result[2]}\\tCoefficients: {result[3]}\\tIntercept: {result[4]:.5f}\\tMAE: {result[5]:.2f}\\tMSE: {result[6]:.2f}\\tMAPE: {result[7]*100:.0f}%\\tRMSE: {result[8]:.2f}\\tCumSum: {result[9]:.2f}\\tMedian: {result[10]:.2f}\\tStd: {result[11]:.2f}\\tSkew: {result[12]:.2f}\\tKurt: {result[13]:.2f}\")\n",
    "        if idx == 9:\n",
    "            break\n",
    "\n",
    "print(\"\\nTop results by MAE\")\n",
    "print_top_ten(results, 5)\n",
    "\n",
    "print(\"\\nTop results by MAPE\")\n",
    "print_top_ten(results, 7)\n",
    "\n",
    "print(\"\\nTop results by RMSE\")\n",
    "print_top_ten(results, 8)\n",
    "\n",
    "print(\"\\nTop results by CumSum\")\n",
    "print_top_ten(results, 9)"
   ]
  },
  {
   "cell_type": "code",
   "execution_count": null,
   "metadata": {},
   "outputs": [],
   "source": [
    "stats_df = pd.DataFrame(results, columns=[\"Window Size MA\", \"Window Size MS\", \"Window Size MS 2\", \"Coefficients\", \"Intercept\", \"MAE\", \"MSE\", \"MAPE\", \"RMSE\", \"CumSum\", \"Median\", \"Std\", \"Skew\", \"Kurt\", \"Data\"])\n",
    "stats_df.describe()"
   ]
  },
  {
   "cell_type": "code",
   "execution_count": null,
   "metadata": {},
   "outputs": [],
   "source": [
    "plt.figure(figsize=(15, 5))\n",
    "sns.swarmplot(\n",
    "    stats_df,\n",
    "    hue=\"Window Size MS\",\n",
    "    y=\"RMSE\",\n",
    "    x=\"Window Size MA\",\n",
    "    hue_order=steps,\n",
    "    size=10,\n",
    ")\n",
    "plt.xlabel(\"Window Size of Moving Average in Days\")\n",
    "plt.ylabel(\"Root Mean Squared Error\")\n",
    "plt.legend(title=\"Window Size of\\nMoving Sum\\nin Days\", loc='upper left')\n",
    "plt.ylim(60, 150)\n",
    "# adjust the labels shown in the legend\n",
    "\n",
    "plt.show()"
   ]
  },
  {
   "cell_type": "code",
   "execution_count": null,
   "metadata": {},
   "outputs": [],
   "source": [
    "# LT @Kruonis\n",
    "window_size_ma = 14\n",
    "window_size_ms = 90\n",
    "\n",
    "# SK @Cierny-Vah\n",
    "window_size = 1\n",
    "window_size_ms = 90\n",
    "\n",
    "net_prod_est_one, net_prod_est_two, net_prod_est_three, net_prod_est_four, coefficients, intercept = estimate_pumping(df['Net Production'], df['Residual Production'], df['Residual Load'], df['Spot Price'], window_size_ma=window_size_ma*24, window_size_ms=window_size_ms*24, plant_efficiency=plant_efficiency)\n",
    "stats_est_one = calculate_stats(df['Net Production'], net_prod_est_one)\n",
    "stats_est_two = calculate_stats(df['Net Production'], net_prod_est_two)\n",
    "stats_est_three = calculate_stats(df['Net Production'], net_prod_est_three)\n",
    "stats_est_four = calculate_stats(df['Net Production'], net_prod_est_four)\n",
    "\n",
    "diff_one = df['Net Production'] - net_prod_est_one\n",
    "diff_two = df['Net Production'] - net_prod_est_two\n",
    "diff_three = df['Net Production'] - net_prod_est_three\n",
    "diff_four = df['Net Production'] - net_prod_est_four\n",
    "\n",
    "# print both, stats_est and stats_est_two, as table\n",
    "print(f\"\"\"\n",
    "Intercept: {intercept}\n",
    "Coefficients: {coefficients}\n",
    "\n",
    "\\t\\tEstimated\\tAdjusted\\tCombined\\tReadjusted\n",
    "MAE:\\t\\t{stats_est_one[0]:.2f}\\t\\t{stats_est_two[0]:.2f}\\t\\t{stats_est_three[0]:.2f}\\t\\t{stats_est_four[0]:.2f}\n",
    "MSE:\\t\\t{stats_est_one[1]:.0f}\\t\\t{stats_est_two[1]:.0f}\\t\\t{stats_est_three[1]:.0f}\\t\\t{stats_est_four[1]:.0f}\n",
    "MAPE:\\t\\t{stats_est_one[2]*100:.0f}%\\t\\t{stats_est_two[2]*100:.0f}%\\t\\t{stats_est_three[2]*100:.0f}%\\t\\t{stats_est_four[2]*100:.0f}%\n",
    "RMSE:\\t\\t{stats_est_one[3]:.2f}\\t\\t{stats_est_two[3]:.2f}\\t\\t{stats_est_three[3]:.2f}\\t\\t{stats_est_four[3]:.2f}\n",
    "CumSum:\\t\\t{stats_est_one[4]:.0f}\\t\\t{stats_est_two[4]:.0f}\\t\\t{stats_est_three[4]:.0f}\\t\\t{stats_est_four[4]:.0f}\n",
    "Median:\\t\\t{stats_est_one[5]:.2f}\\t\\t{stats_est_two[5]:.2f}\\t\\t{stats_est_three[5]:.2f}\\t\\t{stats_est_four[5]:.2f}\n",
    "Std:\\t\\t{stats_est_one[6]:.2f}\\t\\t{stats_est_two[6]:.2f}\\t\\t{stats_est_three[6]:.2f}\\t\\t{stats_est_four[6]:.2f}\n",
    "Skew:\\t\\t{stats_est_one[7]:.2f}\\t\\t{stats_est_two[7]:.2f}\\t\\t{stats_est_three[7]:.2f}\\t\\t{stats_est_four[7]:.2f}\n",
    "Kurt:\\t\\t{stats_est_one[8]:.2f}\\t\\t{stats_est_two[8]:.2f}\\t\\t{stats_est_three[8]:.2f}\\t\\t{stats_est_four[8]:.2f}\n",
    "\"\"\")\n",
    "\n",
    "print(f\"\"\"\n",
    "\"MAE\", \"{stats_est_one[0]:.2f}\", \"{stats_est_two[0]:.2f}\", \"{stats_est_three[0]:.2f}\", \"{stats_est_four[0]:.2f}\",\n",
    "\"MSE\", \"{stats_est_one[1]:.0f}\", \"{stats_est_two[1]:.0f}\", \"{stats_est_three[1]:.0f}\", \"{stats_est_four[1]:.0f}\",\n",
    "\"MAPE\", \"{stats_est_one[2]*100:.0f}%\", \"{stats_est_two[2]*100:.0f}%\", \"{stats_est_three[2]*100:.0f}%\", \"{stats_est_four[2]*100:.0f}%\",\n",
    "\"RMSE\", \"{stats_est_one[3]:.2f}\", \"{stats_est_two[3]:.2f}\", \"{stats_est_three[3]:.2f}\", \"{stats_est_four[3]:.2f}\",\n",
    "\"Cum. Sum\", \"{stats_est_one[4]:,.0f}\", \"{stats_est_two[4]:,.0f}\", \"{stats_est_three[4]:,.0f}\", \"{stats_est_four[4]:,.0f}\",\n",
    "\"Median\", \"{stats_est_one[5]:.2f}\", \"{stats_est_two[5]:.2f}\", \"{stats_est_three[5]:.2f}\", \"{stats_est_four[5]:.2f}\",\n",
    "\"Std. Dev.\", \"{stats_est_one[6]:.2f}\", \"{stats_est_two[6]:.2f}\", \"{stats_est_three[6]:.2f}\", \"{stats_est_four[6]:.2f}\",\n",
    "\"Skewness\", \"{stats_est_one[7]:.2f}\", \"{stats_est_two[7]:.2f}\", \"{stats_est_three[7]:.2f}\", \"{stats_est_four[7]:.2f}\",\n",
    "\"Kurtosis\", \"{stats_est_one[8]:.2f}\", \"{stats_est_two[8]:.2f}\", \"{stats_est_three[8]:.2f}\", \"{stats_est_four[8]:.2f}\",\n",
    "      \"\"\")\n",
    "\n",
    "df['Net Production Estimated One'] = net_prod_est_one\n",
    "df['Net Production Estimated Two'] = net_prod_est_two\n",
    "df['Net Production Estimated Three'] = net_prod_est_three\n",
    "df['Net Production Estimated Four'] = net_prod_est_four\n",
    "df['Net Production Difference One'] = diff_one\n",
    "df['Net Production Difference Two'] = diff_two\n",
    "df['Net Production Difference Three'] = diff_three\n",
    "df['Net Production Difference Four'] = diff_four\n",
    "\n",
    "df[['Net Production', 'Net Production Estimated One', 'Net Production Estimated Two', 'Net Production Estimated Three', 'Net Production Estimated Four', 'Net Production Difference One', 'Net Production Difference Two', 'Net Production Difference Three', 'Net Production Difference Four']].describe(percentiles=[0.01, 0.05, 0.25, 0.5, 0.75, 0.95, 0.99])"
   ]
  },
  {
   "cell_type": "code",
   "execution_count": null,
   "metadata": {},
   "outputs": [],
   "source": [
    "idx = 360 * 24 * 3\n",
    "sns.lineplot(\n",
    "    data=df[[\n",
    "        \"Net Production\",\n",
    "        # \"Net Production Estimated One\",\n",
    "        # \"Net Production Estimated Two\",\n",
    "        # \"Net Production Estimated Three\",\n",
    "        \"Net Production Estimated Four\",\n",
    "        # \"Net Production Estimated Five\",\n",
    "    ]].iloc[idx:idx + 14*24],\n",
    "    # dashes=False\n",
    ")"
   ]
  },
  {
   "cell_type": "code",
   "execution_count": null,
   "metadata": {},
   "outputs": [],
   "source": [
    "sns.boxenplot(\n",
    "    data=df[[\n",
    "        \"Net Production\",\n",
    "        # \"Net Production Estimated One\",\n",
    "        # \"Net Production Estimated Two\",\n",
    "        # \"Net Production Estimated Three\",\n",
    "        \"Net Production Estimated Four\",\n",
    "        # \"Net Production Estimated Five\",\n",
    "    ]].rename(columns={\n",
    "        \"Net Production\": \"Actual Net Production\",\n",
    "        # \"Net Production Estimated\": \"Estimated Net Production\",\n",
    "        \"Net Production Estimated Four\": \"Estimated Net Production\",\n",
    "        # \"Net Production Estimated Five\": \"Estimated Net Production\",\n",
    "    }),\n",
    "    orient=\"h\",\n",
    "    showfliers=False\n",
    ")\n",
    "plt.xlabel(\"MWh/h\")\n",
    "plt.show()"
   ]
  },
  {
   "cell_type": "code",
   "execution_count": null,
   "metadata": {},
   "outputs": [],
   "source": [
    "plt.figure(figsize=(15, 3))\n",
    "sns.histplot(\n",
    "    df[[\n",
    "        \"Net Production\",\n",
    "        # \"Net Production Estimated One\",\n",
    "        # \"Net Production Estimated Two\",\n",
    "        # \"Net Production Estimated Three\",\n",
    "        \"Net Production Estimated Four\",\n",
    "        # \"Net Production Estimated Five\",\n",
    "    ]].replace(0, np.nan).rename(columns={\n",
    "        \"Net Production\": \"Actual Net Production\",\n",
    "        \"Net Production Estimated Four\": \"Estimated Net Production\"\n",
    "        # \"Net Production Estimated Five\": \"Estimated Net Production\"\n",
    "    }),\n",
    "    kde=True\n",
    ")\n",
    "plt.xlabel(\"MWh/h\")\n",
    "plt.xlim(-700, 600)\n",
    "plt.show()"
   ]
  },
  {
   "cell_type": "markdown",
   "metadata": {},
   "source": [
    "# Store Data (CSV)"
   ]
  },
  {
   "cell_type": "code",
   "execution_count": null,
   "metadata": {},
   "outputs": [],
   "source": [
    "# convert index to UTC\n",
    "df.index = df.index.tz_convert(\"UTC\")\n",
    "df[[f\"Net Production Estimated Four\"]].to_csv(f\"../data/{plant_name.lower().replace(\" @\", \"_\")}_pumping.csv\")"
   ]
  }
 ],
 "metadata": {
  "kernelspec": {
   "display_name": "venv",
   "language": "python",
   "name": "python3"
  },
  "language_info": {
   "codemirror_mode": {
    "name": "ipython",
    "version": 3
   },
   "file_extension": ".py",
   "mimetype": "text/x-python",
   "name": "python",
   "nbconvert_exporter": "python",
   "pygments_lexer": "ipython3",
   "version": "3.12.5"
  }
 },
 "nbformat": 4,
 "nbformat_minor": 2
}
