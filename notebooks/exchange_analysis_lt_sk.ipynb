{
 "cells": [
  {
   "cell_type": "markdown",
   "metadata": {},
   "source": [
    "# Estimate the Filling Level of a Pumped Hydro Energy Storage\n",
    "\n",
    "This notebook estimates the filling level of a pumped hydro energy storage (PHES) using time series of pumping and production data. This data is provided by Energy Quantified and fetched via their Python client.\n",
    "\n",
    "Most PHES plants have insufficient data or are not closed-loop systems. Two plants in Europe have been identified with good quality in their data. These are the Kruonis plant in Lithuania and the Čierny Váh plant in Slovakia.\n",
    "\n",
    "| Plant | LT Kruonius | SK Čierny Váh |\n",
    "|---|---|---|\n",
    "| Max. Capacity | 900 MW | 735.16 MW |\n",
    "| Efficiency | 74 % | 73 % |\n",
    "| Max. Storage | 10,800 MWh | 4,000 MWh | "
   ]
  },
  {
   "cell_type": "code",
   "execution_count": 2,
   "metadata": {},
   "outputs": [
    {
     "name": "stdout",
     "output_type": "stream",
     "text": [
      "Appended parent directory to sys.path: /Users/kpelz/Developer/montel/carbon_power_storage\n"
     ]
    }
   ],
   "source": [
    "import sys\n",
    "import os\n",
    "\n",
    "# required to use src module from parent directory\n",
    "sys.path.append(os.path.abspath(os.path.join(os.path.abspath(''), '..')))\n",
    "print(f\"Appended parent directory to sys.path: {os.path.abspath(os.path.join(os.path.abspath(''), '..'))}\")\n",
    "\n",
    "from datetime import date\n",
    "import seaborn as sns\n",
    "\n",
    "from energyquantified import EnergyQuantified \n",
    "from energyquantified.time import CET\n",
    "\n",
    "from src.filling_level import estimate_filling_level\n",
    "\n",
    "sns.set_theme(rc={'figure.figsize':(15, 7)})"
   ]
  },
  {
   "cell_type": "code",
   "execution_count": null,
   "metadata": {},
   "outputs": [],
   "source": [
    "# setup EQ's Python client\n",
    "eq: EnergyQuantified = EnergyQuantified(api_key_file=\"../eq_api_key.txt\")\n",
    "eq.is_api_key_valid()"
   ]
  },
  {
   "cell_type": "code",
   "execution_count": null,
   "metadata": {},
   "outputs": [],
   "source": [
    "begin_date = date(2020, 1, 1)\n",
    "end_date = date(2024, 1, 1)"
   ]
  },
  {
   "cell_type": "markdown",
   "metadata": {},
   "source": [
    "## Load Data"
   ]
  },
  {
   "cell_type": "code",
   "execution_count": null,
   "metadata": {},
   "outputs": [],
   "source": [
    "lt_net_export_ts = eq.timeseries.load(curve=\"LT Exchange Final Schedule Net Export MWh/h H Actual\", begin=begin_date, end=end_date)\n",
    "lt_net_export_ts"
   ]
  },
  {
   "cell_type": "code",
   "execution_count": null,
   "metadata": {},
   "outputs": [],
   "source": [
    "sk_net_export_ts = eq.timeseries.load(curve=\"SK Exchange Final Schedule Net Export MWh/h H Actual\", begin=begin_date, end=end_date)\n",
    "sk_net_export_ts"
   ]
  },
  {
   "cell_type": "code",
   "execution_count": null,
   "metadata": {},
   "outputs": [],
   "source": [
    "df = lt_net_export_ts.to_df(single_level_header=True, name=\"LT Net Export\")\n",
    "df[\"SK Net Export\"] = sk_net_export_ts.to_df(single_level_header=True, name=\"SK Net Export\")[\"SK Net Export\"]\n",
    "df = df.fillna(0)\n",
    "df.info()"
   ]
  },
  {
   "cell_type": "code",
   "execution_count": null,
   "metadata": {},
   "outputs": [],
   "source": [
    "df.describe()"
   ]
  },
  {
   "cell_type": "code",
   "execution_count": null,
   "metadata": {},
   "outputs": [],
   "source": [
    "# count positive values\n",
    "positive_values = df[df > 0].count()\n",
    "\n",
    "print(f\"Out of {df.count()['LT Net Export']} hours, LT had positive net exports in {positive_values['LT Net Export']} hours ({(positive_values['LT Net Export'] * 100 / df.count()['LT Net Export']):.2f} %) and SK in {positive_values['SK Net Export']} hours ({(positive_values['SK Net Export'] * 100 / df.count()['SK Net Export']):.2f} %).\")"
   ]
  }
 ],
 "metadata": {
  "kernelspec": {
   "display_name": "venv",
   "language": "python",
   "name": "python3"
  },
  "language_info": {
   "codemirror_mode": {
    "name": "ipython",
    "version": 3
   },
   "file_extension": ".py",
   "mimetype": "text/x-python",
   "name": "python",
   "nbconvert_exporter": "python",
   "pygments_lexer": "ipython3",
   "version": "3.12.5"
  }
 },
 "nbformat": 4,
 "nbformat_minor": 2
}
