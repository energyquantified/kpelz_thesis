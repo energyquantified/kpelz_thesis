{
 "cells": [
  {
   "cell_type": "code",
   "execution_count": null,
   "metadata": {},
   "outputs": [],
   "source": [
    "import sys\n",
    "import os\n",
    "\n",
    "# required to use src module from parent directory\n",
    "sys.path.append(os.path.abspath(os.path.join(os.path.abspath(''), '..')))\n",
    "print(f\"Appended parent directory to sys.path: {os.path.abspath(os.path.join(os.path.abspath(''), '..'))}\")\n",
    "\n",
    "import numpy as np\n",
    "import pandas as pd\n",
    "\n",
    "from src.flow_tracing import flow_tracing, trace_flows"
   ]
  },
  {
   "cell_type": "code",
   "execution_count": null,
   "metadata": {},
   "outputs": [],
   "source": [
    "row = pd.Series({\n",
    "    'AT Net Export': -3.0,\n",
    "    'BE Net Export': -3.0,\n",
    "    'DE Net Export': -12.0,\n",
    "    'FR Net Export': 15.0,\n",
    "    'NL Net Export': 3.0,\n",
    "    'AT>DE Exchange': -3.0,\n",
    "    'BE>FR Exchange': -2.0,\n",
    "    'BE>NL Exchange': -1.0,\n",
    "    'DE>AT Exchange': 3.0,\n",
    "    'DE>FR Exchange': -13.0,\n",
    "    'DE>NL Exchange': -2.0,\n",
    "    'FR>DE Exchange': 13.0,\n",
    "    'FR>BE Exchange': 2.0,\n",
    "    'NL>BE Exchange': 1.0,\n",
    "    'NL>DEE Exchange': 2.0,\n",
    "})\n",
    "areas = ['AT', 'BE', 'DE', 'FR', 'NL']\n",
    "\n",
    "flows = trace_flows(row, areas)\n",
    "\n",
    "print(flows)"
   ]
  },
  {
   "cell_type": "code",
   "execution_count": null,
   "metadata": {},
   "outputs": [],
   "source": [
    "P_g: np.ndarray = np.array([\n",
    "    0,  # AT\n",
    "    0,  # BE\n",
    "    0,  # DE\n",
    "    15,  # FR\n",
    "    3,  # NL\n",
    "])\n",
    "\n",
    "P_l: np.ndarray = np.array([\n",
    "    3,  # AT\n",
    "    3,  # BE\n",
    "    12,  # DE\n",
    "    0,  # FR\n",
    "    0,  # NL\n",
    "])\n",
    "\n",
    "flows: np.ndarray = np.array([\n",
    "    # AT BE DE FR NL\n",
    "    np.array([0, 0, -3, 0, 0]),  # AT\n",
    "    np.array([0, 0, 0, -2, -1]),  # BE\n",
    "    np.array([0, 0, 0, -13, -2]),  # DE\n",
    "    np.array([0, 2, 13, 0, 0]),  # FR\n",
    "    np.array([0, 1, 2, 0, 0]),  # NL\n",
    "])\n",
    "\n",
    "traced_flows: np.ndarray = flow_tracing(P_g, P_l, flows)\n",
    "\n",
    "print(traced_flows)"
   ]
  }
 ],
 "metadata": {
  "kernelspec": {
   "display_name": "venv",
   "language": "python",
   "name": "python3"
  },
  "language_info": {
   "codemirror_mode": {
    "name": "ipython",
    "version": 3
   },
   "file_extension": ".py",
   "mimetype": "text/x-python",
   "name": "python",
   "nbconvert_exporter": "python",
   "pygments_lexer": "ipython3",
   "version": "3.12.5"
  }
 },
 "nbformat": 4,
 "nbformat_minor": 2
}
