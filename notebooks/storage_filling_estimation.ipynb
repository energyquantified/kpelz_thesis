{
 "cells": [
  {
   "cell_type": "markdown",
   "metadata": {},
   "source": [
    "# Estimate the Filling Level of a Pumped Hydro Energy Storage\n",
    "\n",
    "This notebook estimates the filling level of a pumped hydro energy storage (PHES) using time series of pumping and production data. This data is provided by Energy Quantified and fetched via their Python client.\n",
    "\n",
    "Most PHES plants have insufficient data or are not closed-loop systems. Two plants in Europe have been identified with good quality in their data. These are the Kruonis plant in Lithuania and the Čierny Váh plant in Slovakia.\n",
    "\n",
    "| Plant | LT Kruonius | SK Čierny Váh |\n",
    "|---|---|---|\n",
    "| Max. Capacity | 900 MW | 735.16 MW |\n",
    "| Efficiency | 74 % | 73 % |\n",
    "| Max. Storage | 10,800 MWh | 4,000 MWh | "
   ]
  },
  {
   "cell_type": "code",
   "execution_count": 1,
   "metadata": {},
   "outputs": [
    {
     "name": "stdout",
     "output_type": "stream",
     "text": [
      "Appended parent directory to sys.path: /Users/kpelz/Developer/montel/carbon_power_storage\n"
     ]
    }
   ],
   "source": [
    "import sys\n",
    "import os\n",
    "\n",
    "# required to use src module from parent directory\n",
    "sys.path.append(os.path.abspath(os.path.join(os.path.abspath(''), '..')))\n",
    "print(f\"Appended parent directory to sys.path: {os.path.abspath(os.path.join(os.path.abspath(''), '..'))}\")\n",
    "\n",
    "from datetime import date, timedelta\n",
    "from matplotlib import pyplot as plt\n",
    "import seaborn as sns\n",
    "\n",
    "from energyquantified import EnergyQuantified \n",
    "from energyquantified.time import CET\n",
    "\n",
    "from src.filling_level import estimate_filling_level\n",
    "\n",
    "sns.set_theme(rc={'figure.figsize':(15, 7)})"
   ]
  },
  {
   "cell_type": "code",
   "execution_count": null,
   "metadata": {},
   "outputs": [],
   "source": [
    "# setup EQ's Python client\n",
    "eq = EnergyQuantified(api_key_file=\"../eq_api_key.txt\")\n",
    "eq.is_api_key_valid()"
   ]
  },
  {
   "cell_type": "markdown",
   "metadata": {},
   "source": [
    "This notebook uses the LT Kruonis plant but it can be easily switched to SK Čierny Váh by commenting and uncommenting the following lines."
   ]
  },
  {
   "cell_type": "code",
   "execution_count": null,
   "metadata": {},
   "outputs": [],
   "source": [
    "days = 360\n",
    "\n",
    "plant_name = \"LT @Kruonis\"\n",
    "plant_efficiency = 0.74\n",
    "max_storage = 10_800\n",
    "begin_date = date(2019, 1, 1) - timedelta(days=days)\n",
    "end_date = date(2024, 7, 1)\n",
    "\n",
    "# plant_name = \"SK @Cierny-Vah\"\n",
    "# plant_efficiency = 0.73\n",
    "# max_storage = 4_000\n",
    "# begin_date = date(2019, 1, 1) - timedelta(days=days)\n",
    "# # begin_date = date(2015, 1, 1)\n",
    "# end_date = date(2024, 7, 1)\n"
   ]
  },
  {
   "cell_type": "markdown",
   "metadata": {},
   "source": [
    "## Load Data"
   ]
  },
  {
   "cell_type": "code",
   "execution_count": null,
   "metadata": {},
   "outputs": [],
   "source": [
    "plant_curve = f\"{plant_name} Hydro Pumped-storage Production MWh/h H Actual\"\n",
    "ts = eq.timeseries.load(plant_curve, begin=begin_date, end=end_date, unit=\"MWh\")\n",
    "\n",
    "ts"
   ]
  },
  {
   "cell_type": "code",
   "execution_count": null,
   "metadata": {},
   "outputs": [],
   "source": [
    "# create data frame\n",
    "df = ts.to_df(name=\"Net Production\", single_level_header=True)\n",
    "df.info()"
   ]
  },
  {
   "cell_type": "code",
   "execution_count": null,
   "metadata": {},
   "outputs": [],
   "source": [
    "# count missing values\n",
    "missing_values = df.isnull().sum()\n",
    "\n",
    "print(f\"Missing values: {missing_values[\"Net Production\"]} of {len(df)} => {missing_values['Net Production'] / len(df) * 100:.2f}%\")"
   ]
  },
  {
   "cell_type": "code",
   "execution_count": null,
   "metadata": {},
   "outputs": [],
   "source": [
    "df.describe()"
   ]
  },
  {
   "cell_type": "code",
   "execution_count": null,
   "metadata": {},
   "outputs": [],
   "source": [
    "df[\"Production\"] = df[\"Net Production\"].clip(lower=0)\n",
    "df[\"Pumping\"] = df[\"Net Production\"].clip(upper=0)"
   ]
  },
  {
   "cell_type": "code",
   "execution_count": null,
   "metadata": {},
   "outputs": [],
   "source": [
    "sns.lineplot(data=df, x=df.index, y=\"Net Production\")"
   ]
  },
  {
   "cell_type": "markdown",
   "metadata": {},
   "source": [
    "## Estimate Efficiency\n",
    "\n",
    "Even though the plants have an official efficiency, it's often not the most accurate and actually varies slightly over time. That's why the efficiency must be estimated. "
   ]
  },
  {
   "cell_type": "code",
   "execution_count": null,
   "metadata": {},
   "outputs": [],
   "source": [
    "efficiency = df[\"Production\"].sum() / -df[\"Pumping\"].sum()\n",
    "print(f\"Overall efficiency: {format(efficiency, '.4f')} (it should be ~{plant_efficiency})\")"
   ]
  },
  {
   "cell_type": "code",
   "execution_count": null,
   "metadata": {},
   "outputs": [],
   "source": [
    "window_sizes = [7, 14, 30, 60, 90, 180, 270, 360]\n",
    "\n",
    "for window_size in window_sizes:\n",
    "    df[f\"Production {window_size}d\"] = df[\"Production\"].fillna(0).rolling(window=window_size*24).mean()\n",
    "    df[f\"Pumping {window_size}d\"] = df[\"Pumping\"].fillna(0).rolling(window=window_size*24).mean()\n",
    "\n",
    "    df[f\"Efficiency {window_size}d\"] = df[f\"Production {window_size}d\"] / -df[f\"Pumping {window_size}d\"]\n",
    "\n",
    "df[[f\"Efficiency {window_size}d\" for window_size in window_sizes]].describe()"
   ]
  },
  {
   "cell_type": "code",
   "execution_count": null,
   "metadata": {},
   "outputs": [],
   "source": [
    "plt.figure(figsize=(15, 5))\n",
    "sns.boxenplot(\n",
    "    data=df[[f\"Efficiency {window_size}d\" for window_size in window_sizes[4:]]],\n",
    "    showfliers=False,\n",
    "    orient=\"h\",\n",
    ")\n",
    "plt.xlabel(\"Efficiency\")\n",
    "plt.xlim(0.72, 0.85)\n",
    "plt.ylabel(\"Window Size\")\n",
    "plt.yticks(ticks=range(len(window_sizes[4:])), labels=[f\"{window_size} Days\" for window_size in window_sizes[4:]])\n",
    "# plt.legend()\n",
    "plt.show()"
   ]
  },
  {
   "cell_type": "code",
   "execution_count": null,
   "metadata": {},
   "outputs": [],
   "source": [
    "efficiency_window_size = 180 * 24\n",
    "\n",
    "# prod_sum = df[\"Production\"].rolling(efficiency_window_size).sum()\n",
    "# pump_sum = df[\"Pumping\"].rolling(efficiency_window_size).sum()\n",
    "prod_sum = df[\"Production\"].fillna(0).rolling(efficiency_window_size).sum()\n",
    "pump_sum = df[\"Pumping\"].fillna(0).rolling(efficiency_window_size).sum()\n",
    "\n",
    "df[\"Efficiency\"] = prod_sum / pump_sum * -1.0\n",
    "\n",
    "eff_mean = df[\"Efficiency\"].mean()\n",
    "eff_std = df[\"Efficiency\"].std()\n",
    "\n",
    "print(f\"Efficiency over {days} days:\")\n",
    "print(f\"Efficiency mean: {eff_mean:.4f}\")\n",
    "print(f\"Efficiency std: {eff_std:.4f}\")\n",
    "print(df[\"Efficiency\"].describe())\n",
    "\n",
    "plt.figure(figsize=(15, 3))\n",
    "sns.histplot(df[\"Efficiency\"], kde=True)\n",
    "# show official and actual efficiency\n",
    "plt.axvline(plant_efficiency, color=\"r\", label=\"Official Efficiency\", linestyle=\"--\", linewidth=2)\n",
    "plt.axvline(eff_mean, color=\"purple\", label=\"Actual Efficiency\", linestyle=\"--\", linewidth=2)\n",
    "# plt.xlim(0.7, 0.79)\n",
    "plt.legend()"
   ]
  },
  {
   "cell_type": "code",
   "execution_count": null,
   "metadata": {},
   "outputs": [],
   "source": [
    "max_df = df.resample('W').quantile(0.95)\n",
    "min_df = df.resample('W').quantile(0.05)\n",
    "mean_df = df.resample('W').mean()\n",
    "\n",
    "plt.figure(figsize=(15, 3))\n",
    "# sns.lineplot(data=max_df, x=max_df.index, y=\"Efficiency\", label=\"95th Percentile Efficiency\")\n",
    "sns.lineplot(data=mean_df, x=mean_df.index, y=\"Efficiency\", label=\"Mean Efficiency\")\n",
    "# sns.lineplot(data=min_df, x=min_df.index, y=\"Efficiency\", label=\"5th Percentile Efficiency\")\n",
    "# show official efficiency\n",
    "plt.axhline(y=plant_efficiency, color='r', linestyle='--', label=\"Official Efficiency\", linewidth=2)\n",
    "plt.axhline(y=efficiency, color='purple', linestyle='--', label=\"Actual Efficiency\", linewidth=2)\n",
    "\n",
    "plt.xlim(date(2019, 1, 1), end_date)\n",
    "# plt.xlim(date(2023, 6, 1), date(2024, 1, 1))\n",
    "plt.xlabel(\"Date\")\n",
    "plt.ylabel(\"Efficiency\")\n",
    "plt.legend()\n",
    "plt.show()"
   ]
  },
  {
   "cell_type": "markdown",
   "metadata": {},
   "source": [
    "## Estimate Filling Level"
   ]
  },
  {
   "cell_type": "code",
   "execution_count": null,
   "metadata": {},
   "outputs": [],
   "source": [
    "df[\"Filling Level\"] = estimate_filling_level(\n",
    "    df.iloc[efficiency_window_size:],\n",
    "    \"Net Production\",\n",
    "    efficiency_name=\"Efficiency\",\n",
    "    max_filling_level=max_storage\n",
    ")\n",
    "df[\"Filling Level\"].describe()"
   ]
  },
  {
   "cell_type": "code",
   "execution_count": null,
   "metadata": {},
   "outputs": [],
   "source": [
    "df[\"Filling Level\"][2160:].head()"
   ]
  },
  {
   "cell_type": "code",
   "execution_count": null,
   "metadata": {},
   "outputs": [],
   "source": [
    "df[\"Filling Level\"].tail()"
   ]
  },
  {
   "cell_type": "code",
   "execution_count": null,
   "metadata": {},
   "outputs": [],
   "source": [
    "# find all timestamps where the filling level equals zero\n",
    "zero_filling_level = df[df[\"Filling Level\"] == 0]\n",
    "\n",
    "zero_filling_level[[\"Filling Level\"]]"
   ]
  },
  {
   "cell_type": "code",
   "execution_count": null,
   "metadata": {},
   "outputs": [],
   "source": [
    "# find all timestamps where the filling level equals zero\n",
    "low_filling_level = df[df[\"Filling Level\"] < 3800]\n",
    "\n",
    "low_filling_level[[\"Filling Level\"]].tail(50)"
   ]
  },
  {
   "cell_type": "code",
   "execution_count": null,
   "metadata": {},
   "outputs": [],
   "source": [
    "# for SK plant\n",
    "df[\"Readjusted Filling Level\"] = df[\"Filling Level\"] - 3577.311499\n",
    "\n",
    "max_df = df.resample('W').quantile(0.95)\n",
    "min_df = df.resample('W').quantile(0.05)\n",
    "mean_df = df.resample('W').mean()\n",
    "\n",
    "\n",
    "sns.lineplot(data=max_df, x=max_df.index, y=\"Filling Level\", label=\"95th Percentile\")\n",
    "sns.lineplot(data=mean_df, x=max_df.index, y=\"Filling Level\", label=\"Mean\")\n",
    "sns.lineplot(data=min_df, x=max_df.index, y=\"Filling Level\", label=\"5th Percentile\")\n",
    "\n",
    "sns.lineplot(data=max_df, x=max_df.index, y=\"Readjusted Filling Level\", label=\"Readjusted 95th Percentile\", linestyle=\"-.\", color=\"b\")\n",
    "sns.lineplot(data=mean_df, x=max_df.index, y=\"Readjusted Filling Level\", label=\"Readjusted Mean\", linestyle=\"-.\", color=\"#DD8452\")\n",
    "sns.lineplot(data=min_df, x=max_df.index, y=\"Readjusted Filling Level\", label=\"Readjusted 5th Percentile\", linestyle=\"-.\", color=\"g\")\n",
    "\n",
    "plt.axhline(y=max_storage, color='r', linestyle='--', label=\"Filling Capacity\", linewidth=2)\n",
    "# plt.axhline(y=max_storage + 3000, color='purple', linestyle='--', label=\"Readjusted Filling Capacity\", linewidth=2)\n",
    "# plt.title(f\"{plant_name} Filling Level\")\n",
    "plt.legend()\n",
    "plt.ylabel(\"Filling Level [MWh]\")\n",
    "plt.ylim(bottom=0)\n",
    "plt.xlim(date(2019, 1, 1), end_date)\n",
    "plt.xlabel(\"Date\")\n",
    "plt.show()"
   ]
  },
  {
   "cell_type": "code",
   "execution_count": null,
   "metadata": {},
   "outputs": [],
   "source": [
    "plt.figure(figsize=(15, 3))\n",
    "sns.histplot(df, x=\"Filling Level\", kde=True)\n",
    "# plt.title(f\"{plant_name} Filling Level Distribution\")\n",
    "plt.axvline(max_storage, color=\"r\", label=\"Official Capacity\", linestyle=\"--\", linewidth=2)\n",
    "plt.xlabel(\"Filling Level [MWh]\")\n",
    "plt.legend()\n",
    "plt.show()"
   ]
  },
  {
   "cell_type": "markdown",
   "metadata": {},
   "source": [
    "# Store Data (CSV)"
   ]
  },
  {
   "cell_type": "code",
   "execution_count": null,
   "metadata": {},
   "outputs": [],
   "source": [
    "# convert index to UTC\n",
    "df.index = df.index.tz_convert(\"UTC\")\n",
    "df[[f\"Filling Level\"]].iloc[efficiency_window_size:].to_csv(f\"../data/{plant_name.lower().replace(\" @\", \"_\")}_filling_level.csv\")"
   ]
  }
 ],
 "metadata": {
  "kernelspec": {
   "display_name": "venv",
   "language": "python",
   "name": "python3"
  },
  "language_info": {
   "codemirror_mode": {
    "name": "ipython",
    "version": 3
   },
   "file_extension": ".py",
   "mimetype": "text/x-python",
   "name": "python",
   "nbconvert_exporter": "python",
   "pygments_lexer": "ipython3",
   "version": "3.12.5"
  }
 },
 "nbformat": 4,
 "nbformat_minor": 2
}
